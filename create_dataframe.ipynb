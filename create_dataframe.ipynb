{
 "cells": [
  {
   "cell_type": "code",
   "execution_count": 1,
   "metadata": {},
   "outputs": [],
   "source": [
    "from glob import glob\n",
    "import os\n",
    "\n",
    "from tensorflow.keras.utils import to_categorical\n",
    "import pandas as pd\n",
    "import numpy as np"
   ]
  },
  {
   "cell_type": "code",
   "execution_count": 2,
   "metadata": {},
   "outputs": [],
   "source": [
    "def create_dataset_df(csv_file):\n",
    "    dataset_df = pd.read_csv(csv_file)\n",
    "    filepaths = []\n",
    "    for i, row in dataset_df.iterrows():\n",
    "        filepaths.append(os.path.join('./data/UrbanSound8K/audio', 'fold'+str(row['fold']), row['slice_file_name']))\n",
    "    dataset_df['filepath'] = filepaths\n",
    "    return dataset_df\n",
    "\n",
    "dataset_df = create_dataset_df('./data/UrbanSound8K/metadata/UrbanSound8K.csv')"
   ]
  },
  {
   "cell_type": "code",
   "execution_count": 3,
   "metadata": {},
   "outputs": [],
   "source": [
    "dataset_df[\"features_path\"] = dataset_df[\"filepath\"].apply(lambda x: \"./data/features_mfcc/{}.npy\".format(x.split('\\\\')[-1][:-4]))"
   ]
  },
  {
   "cell_type": "code",
   "execution_count": 4,
   "metadata": {},
   "outputs": [],
   "source": [
    "dataset_df['features'] = [np.asarray(np.load(feature_path)) for feature_path in dataset_df['features_path']]"
   ]
  },
  {
   "cell_type": "code",
   "execution_count": 5,
   "metadata": {},
   "outputs": [],
   "source": [
    "dataset_df['labels_categorical'] = [to_categorical(label, 10) for label in dataset_df['classID']]"
   ]
  },
  {
   "cell_type": "code",
   "execution_count": 8,
   "metadata": {},
   "outputs": [],
   "source": [
    "# dataset_df.to_csv(\n",
    "#     \"./data/dataset.zip\",\n",
    "#     sep=\";\",\n",
    "#     index=False,\n",
    "#     compression={\n",
    "#         \"method\": \"zip\",\n",
    "#         \"archive_name\": \"dataset.csv\"\n",
    "#     }\n",
    "# )\n",
    "\n",
    "dataset_df.to_pickle(\"./data/dataset.pkl\")"
   ]
  }
 ],
 "metadata": {
  "kernelspec": {
   "display_name": "Python 3.9.12 ('base')",
   "language": "python",
   "name": "python3"
  },
  "language_info": {
   "codemirror_mode": {
    "name": "ipython",
    "version": 3
   },
   "file_extension": ".py",
   "mimetype": "text/x-python",
   "name": "python",
   "nbconvert_exporter": "python",
   "pygments_lexer": "ipython3",
   "version": "3.9.12"
  },
  "orig_nbformat": 4,
  "vscode": {
   "interpreter": {
    "hash": "aea149784bd30735ce6bf75b9a5314843328adf2083b944f20623ef50c2ca00d"
   }
  }
 },
 "nbformat": 4,
 "nbformat_minor": 2
}
